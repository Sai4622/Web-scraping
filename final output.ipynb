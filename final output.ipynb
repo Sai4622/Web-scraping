{
 "cells": [
  {
   "cell_type": "code",
   "execution_count": 8,
   "metadata": {
    "id": "A-EmVk6nsKs7"
   },
   "outputs": [],
   "source": [
    "import requests\n",
    "from bs4 import BeautifulSoup as bs\n",
    "import pandas as pd\n",
    "from datetime import datetime"
   ]
  },
  {
   "cell_type": "code",
   "execution_count": 9,
   "metadata": {},
   "outputs": [],
   "source": [
    "def extract_web1(link):\n",
    "    respons=requests.get(url)\n",
    "    soup=bs(respons.text,\"html.parser\")\n",
    "    web={\"job_title\":[],\"url1\":[],\"company\":[],\"location\":[],\"salary\":[],\"summary\":[],\"date\":[],\"today\":[]}\n",
    "    for link in soup.findAll(\"div\",\"jobsearch-SerpJobCard\"):\n",
    "        try:\n",
    "            web[\"job_title\"].append(link.a.text.strip())\n",
    "        except:\n",
    "            web[\"job_title\"].append(\"missing\")\n",
    "        try:\n",
    "            web[\"url1\"].append(\"http://indeed.com \"+link.a[\"href\"])\n",
    "        except:\n",
    "            web[\"url1\"].append(\"missing\")\n",
    "        try:\n",
    "            web[\"company\"].append(link.find(\"span\",\"company\").text.strip())\n",
    "        except:\n",
    "            web[\"company\"].append(\"missing\")\n",
    "        try:\n",
    "            web[\"location\"].append(link.find(\"div\",\"recJobLoc\").get(\"data-rc-loc\"))\n",
    "        except:\n",
    "            web[\"location\"].append(\"missing\")\n",
    "        try:\n",
    "            web[\"salary\"].append(link.find(\"span\",\"salaryText\").text.strip())\n",
    "        except:\n",
    "            web[\"salary\"].append(\"missing\")\n",
    "        try:\n",
    "            web[\"summary\"].append(link.find(\"div\",\"summary\").text.strip().replace(\"\\n\",\" \"))\n",
    "        except:\n",
    "            web[\"summary\"].append(\"missing\")\n",
    "        try:\n",
    "            web[\"date\"].append(link.find(\"span\",\"date\").text)\n",
    "        except:\n",
    "            web[\"date\"].append(\"missing\")\n",
    "        web[\"today\"].append(datetime.today().strftime(\"%d-%m-%y\"))\n",
    "    blog_list1 = pd.DataFrame(web)\n",
    "    return blog_list1"
   ]
  },
  {
   "cell_type": "code",
   "execution_count": 10,
   "metadata": {},
   "outputs": [],
   "source": [
    "def get_url(position, location):\n",
    "    template=\"https://www.indeed.co.in/jobs?q={}&l={}\"\n",
    "    url= template.format(position, location)\n",
    "    return url"
   ]
  },
  {
   "cell_type": "code",
   "execution_count": 20,
   "metadata": {},
   "outputs": [
    {
     "data": {
      "text/plain": [
       "'https://www.indeed.co.in/jobs?q=Accounting&l=hyderabad'"
      ]
     },
     "execution_count": 20,
     "metadata": {},
     "output_type": "execute_result"
    }
   ],
   "source": [
    "url"
   ]
  },
  {
   "cell_type": "code",
   "execution_count": null,
   "metadata": {},
   "outputs": [],
   "source": [
    "https://www.indeed.co.in/jobs?q=Data+scientist&l=Hyderabad%2C+Telangana"
   ]
  },
  {
   "cell_type": "code",
   "execution_count": 21,
   "metadata": {},
   "outputs": [],
   "source": [
    "url=get_url(\"Data science\",\"hyderabad\")"
   ]
  },
  {
   "cell_type": "code",
   "execution_count": 22,
   "metadata": {},
   "outputs": [],
   "source": [
    "links=[]\n",
    "for i in range(10,100,10):\n",
    "  links.append(url+\"&start=\"+str(i))"
   ]
  },
  {
   "cell_type": "code",
   "execution_count": 23,
   "metadata": {},
   "outputs": [
    {
     "data": {
      "text/plain": [
       "['https://www.indeed.co.in/jobs?q=Data science&l=hyderabad&start=10',\n",
       " 'https://www.indeed.co.in/jobs?q=Data science&l=hyderabad&start=20',\n",
       " 'https://www.indeed.co.in/jobs?q=Data science&l=hyderabad&start=30',\n",
       " 'https://www.indeed.co.in/jobs?q=Data science&l=hyderabad&start=40',\n",
       " 'https://www.indeed.co.in/jobs?q=Data science&l=hyderabad&start=50',\n",
       " 'https://www.indeed.co.in/jobs?q=Data science&l=hyderabad&start=60',\n",
       " 'https://www.indeed.co.in/jobs?q=Data science&l=hyderabad&start=70',\n",
       " 'https://www.indeed.co.in/jobs?q=Data science&l=hyderabad&start=80',\n",
       " 'https://www.indeed.co.in/jobs?q=Data science&l=hyderabad&start=90']"
      ]
     },
     "execution_count": 23,
     "metadata": {},
     "output_type": "execute_result"
    }
   ],
   "source": [
    "links"
   ]
  },
  {
   "cell_type": "code",
   "execution_count": 24,
   "metadata": {
    "colab": {
     "base_uri": "https://localhost:8080/",
     "height": 54
    },
    "id": "WwnocaiVsKtI",
    "outputId": "86d08d5d-9a26-425e-be3a-b9fb8a0a8eb8"
   },
   "outputs": [],
   "source": [
    "\n",
    "a=[]\n",
    "for i in links:\n",
    "    a.append(extract_web1(i))\n",
    "bigdata1=pd.concat(a,ignore_index=True)"
   ]
  },
  {
   "cell_type": "code",
   "execution_count": 25,
   "metadata": {},
   "outputs": [
    {
     "data": {
      "text/html": [
       "<div>\n",
       "<style scoped>\n",
       "    .dataframe tbody tr th:only-of-type {\n",
       "        vertical-align: middle;\n",
       "    }\n",
       "\n",
       "    .dataframe tbody tr th {\n",
       "        vertical-align: top;\n",
       "    }\n",
       "\n",
       "    .dataframe thead th {\n",
       "        text-align: right;\n",
       "    }\n",
       "</style>\n",
       "<table border=\"1\" class=\"dataframe\">\n",
       "  <thead>\n",
       "    <tr style=\"text-align: right;\">\n",
       "      <th></th>\n",
       "      <th>job_title</th>\n",
       "      <th>url1</th>\n",
       "      <th>company</th>\n",
       "      <th>location</th>\n",
       "      <th>salary</th>\n",
       "      <th>summary</th>\n",
       "      <th>date</th>\n",
       "      <th>today</th>\n",
       "    </tr>\n",
       "  </thead>\n",
       "  <tbody>\n",
       "    <tr>\n",
       "      <th>0</th>\n",
       "      <td>AI / Data Science Engineer - Intern</td>\n",
       "      <td>http://indeed.com /rc/clk?jk=27a246a2affb843b&amp;...</td>\n",
       "      <td>Medtronic</td>\n",
       "      <td>Hyderabad, Telangana</td>\n",
       "      <td>missing</td>\n",
       "      <td>Acquire data from primary or secondary data so...</td>\n",
       "      <td>Just posted</td>\n",
       "      <td>05-10-20</td>\n",
       "    </tr>\n",
       "    <tr>\n",
       "      <th>1</th>\n",
       "      <td>Assistant Manager - Data Science</td>\n",
       "      <td>http://indeed.com /rc/clk?jk=311534e21d7ade3e&amp;...</td>\n",
       "      <td>Vreedhi Financial Services</td>\n",
       "      <td>Hyderabad, Telangana</td>\n",
       "      <td>missing</td>\n",
       "      <td>O Explore data for insights, use statistical a...</td>\n",
       "      <td>4 days ago</td>\n",
       "      <td>05-10-20</td>\n",
       "    </tr>\n",
       "    <tr>\n",
       "      <th>2</th>\n",
       "      <td>Manager Data Science</td>\n",
       "      <td>http://indeed.com /rc/clk?jk=86cf2bc32e3c9a2e&amp;...</td>\n",
       "      <td>Reliance Jio Infocomm Limited</td>\n",
       "      <td>Hyderabad, Telangana</td>\n",
       "      <td>missing</td>\n",
       "      <td>Specify, design, and implement new data scienc...</td>\n",
       "      <td>Today</td>\n",
       "      <td>05-10-20</td>\n",
       "    </tr>\n",
       "    <tr>\n",
       "      <th>3</th>\n",
       "      <td>Data science trainer</td>\n",
       "      <td>http://indeed.com /company/Innomatics-Research...</td>\n",
       "      <td>Innomatics Research Labs</td>\n",
       "      <td>Hyderabad, Telangana</td>\n",
       "      <td>₹10,00,000 - ₹20,00,000 a year</td>\n",
       "      <td>We are looking for passionate data science tra...</td>\n",
       "      <td>18 days ago</td>\n",
       "      <td>05-10-20</td>\n",
       "    </tr>\n",
       "    <tr>\n",
       "      <th>4</th>\n",
       "      <td>Data science trainer</td>\n",
       "      <td>http://indeed.com /company/360digrii/jobs/Data...</td>\n",
       "      <td>360digrii</td>\n",
       "      <td>Hyderabad, Telangana</td>\n",
       "      <td>₹1,00,000 - ₹3,00,000 a month</td>\n",
       "      <td>Looking out for experienced trainers for Data ...</td>\n",
       "      <td>13 days ago</td>\n",
       "      <td>05-10-20</td>\n",
       "    </tr>\n",
       "    <tr>\n",
       "      <th>...</th>\n",
       "      <td>...</td>\n",
       "      <td>...</td>\n",
       "      <td>...</td>\n",
       "      <td>...</td>\n",
       "      <td>...</td>\n",
       "      <td>...</td>\n",
       "      <td>...</td>\n",
       "      <td>...</td>\n",
       "    </tr>\n",
       "    <tr>\n",
       "      <th>131</th>\n",
       "      <td>Staff Machine Learning Engineer</td>\n",
       "      <td>http://indeed.com /rc/clk?jk=0747123c6dbf3b0d&amp;...</td>\n",
       "      <td>ServiceNow</td>\n",
       "      <td>Hyderabad, Telangana</td>\n",
       "      <td>missing</td>\n",
       "      <td>You will play a major part in building a pione...</td>\n",
       "      <td>4 days ago</td>\n",
       "      <td>05-10-20</td>\n",
       "    </tr>\n",
       "    <tr>\n",
       "      <th>132</th>\n",
       "      <td>Clinical Data Analyst I</td>\n",
       "      <td>http://indeed.com /rc/clk?jk=5d0b0c790a6ded19&amp;...</td>\n",
       "      <td>Parexel</td>\n",
       "      <td>Hyderabad, Telangana</td>\n",
       "      <td>missing</td>\n",
       "      <td>Responsible for data cleaning and data review ...</td>\n",
       "      <td>12 days ago</td>\n",
       "      <td>05-10-20</td>\n",
       "    </tr>\n",
       "    <tr>\n",
       "      <th>133</th>\n",
       "      <td>Data Scientist</td>\n",
       "      <td>http://indeed.com /rc/clk?jk=b89750f046ce4dbd&amp;...</td>\n",
       "      <td>Innovius Overseas Consultants Private Limited</td>\n",
       "      <td>Hyderabad, Telangana</td>\n",
       "      <td>₹3,10,000 - ₹4,50,000 a year</td>\n",
       "      <td>Networks, Human -Computer interaction, data sc...</td>\n",
       "      <td>1 day ago</td>\n",
       "      <td>05-10-20</td>\n",
       "    </tr>\n",
       "    <tr>\n",
       "      <th>134</th>\n",
       "      <td>DATA SCIENCE MANAGER</td>\n",
       "      <td>http://indeed.com /rc/clk?jk=a39882eb07708ec8&amp;...</td>\n",
       "      <td>Joveo</td>\n",
       "      <td>Hyderabad, Telangana</td>\n",
       "      <td>missing</td>\n",
       "      <td>Visualise data finding with tools like matplot...</td>\n",
       "      <td>30+ days ago</td>\n",
       "      <td>05-10-20</td>\n",
       "    </tr>\n",
       "    <tr>\n",
       "      <th>135</th>\n",
       "      <td>Technology head Data science, data analytics b...</td>\n",
       "      <td>http://indeed.com /rc/clk?jk=d4f4893655abb2a8&amp;...</td>\n",
       "      <td>Truedge Software Solutions</td>\n",
       "      <td>Hyderabad, Telangana</td>\n",
       "      <td>missing</td>\n",
       "      <td>Data science, data analytics background prefer...</td>\n",
       "      <td>30+ days ago</td>\n",
       "      <td>05-10-20</td>\n",
       "    </tr>\n",
       "  </tbody>\n",
       "</table>\n",
       "<p>136 rows × 8 columns</p>\n",
       "</div>"
      ],
      "text/plain": [
       "                                             job_title  \\\n",
       "0                  AI / Data Science Engineer - Intern   \n",
       "1                     Assistant Manager - Data Science   \n",
       "2                                 Manager Data Science   \n",
       "3                                 Data science trainer   \n",
       "4                                 Data science trainer   \n",
       "..                                                 ...   \n",
       "131                    Staff Machine Learning Engineer   \n",
       "132                            Clinical Data Analyst I   \n",
       "133                                     Data Scientist   \n",
       "134                               DATA SCIENCE MANAGER   \n",
       "135  Technology head Data science, data analytics b...   \n",
       "\n",
       "                                                  url1  \\\n",
       "0    http://indeed.com /rc/clk?jk=27a246a2affb843b&...   \n",
       "1    http://indeed.com /rc/clk?jk=311534e21d7ade3e&...   \n",
       "2    http://indeed.com /rc/clk?jk=86cf2bc32e3c9a2e&...   \n",
       "3    http://indeed.com /company/Innomatics-Research...   \n",
       "4    http://indeed.com /company/360digrii/jobs/Data...   \n",
       "..                                                 ...   \n",
       "131  http://indeed.com /rc/clk?jk=0747123c6dbf3b0d&...   \n",
       "132  http://indeed.com /rc/clk?jk=5d0b0c790a6ded19&...   \n",
       "133  http://indeed.com /rc/clk?jk=b89750f046ce4dbd&...   \n",
       "134  http://indeed.com /rc/clk?jk=a39882eb07708ec8&...   \n",
       "135  http://indeed.com /rc/clk?jk=d4f4893655abb2a8&...   \n",
       "\n",
       "                                           company              location  \\\n",
       "0                                        Medtronic  Hyderabad, Telangana   \n",
       "1                       Vreedhi Financial Services  Hyderabad, Telangana   \n",
       "2                    Reliance Jio Infocomm Limited  Hyderabad, Telangana   \n",
       "3                         Innomatics Research Labs  Hyderabad, Telangana   \n",
       "4                                        360digrii  Hyderabad, Telangana   \n",
       "..                                             ...                   ...   \n",
       "131                                     ServiceNow  Hyderabad, Telangana   \n",
       "132                                        Parexel  Hyderabad, Telangana   \n",
       "133  Innovius Overseas Consultants Private Limited  Hyderabad, Telangana   \n",
       "134                                          Joveo  Hyderabad, Telangana   \n",
       "135                     Truedge Software Solutions  Hyderabad, Telangana   \n",
       "\n",
       "                             salary  \\\n",
       "0                           missing   \n",
       "1                           missing   \n",
       "2                           missing   \n",
       "3    ₹10,00,000 - ₹20,00,000 a year   \n",
       "4     ₹1,00,000 - ₹3,00,000 a month   \n",
       "..                              ...   \n",
       "131                         missing   \n",
       "132                         missing   \n",
       "133    ₹3,10,000 - ₹4,50,000 a year   \n",
       "134                         missing   \n",
       "135                         missing   \n",
       "\n",
       "                                               summary          date     today  \n",
       "0    Acquire data from primary or secondary data so...   Just posted  05-10-20  \n",
       "1    O Explore data for insights, use statistical a...    4 days ago  05-10-20  \n",
       "2    Specify, design, and implement new data scienc...         Today  05-10-20  \n",
       "3    We are looking for passionate data science tra...   18 days ago  05-10-20  \n",
       "4    Looking out for experienced trainers for Data ...   13 days ago  05-10-20  \n",
       "..                                                 ...           ...       ...  \n",
       "131  You will play a major part in building a pione...    4 days ago  05-10-20  \n",
       "132  Responsible for data cleaning and data review ...   12 days ago  05-10-20  \n",
       "133  Networks, Human -Computer interaction, data sc...     1 day ago  05-10-20  \n",
       "134  Visualise data finding with tools like matplot...  30+ days ago  05-10-20  \n",
       "135  Data science, data analytics background prefer...  30+ days ago  05-10-20  \n",
       "\n",
       "[136 rows x 8 columns]"
      ]
     },
     "execution_count": 25,
     "metadata": {},
     "output_type": "execute_result"
    }
   ],
   "source": [
    "bigdata1"
   ]
  },
  {
   "cell_type": "code",
   "execution_count": 26,
   "metadata": {
    "id": "vEnSLPmpsKtV"
   },
   "outputs": [],
   "source": [
    "bigdata1.to_csv(\"indeed_data.csv\")"
   ]
  },
  {
   "cell_type": "code",
   "execution_count": null,
   "metadata": {},
   "outputs": [],
   "source": []
  }
 ],
 "metadata": {
  "colab": {
   "name": "data from indeed.ipynb",
   "provenance": []
  },
  "kernelspec": {
   "display_name": "Python 3",
   "language": "python",
   "name": "python3"
  },
  "language_info": {
   "codemirror_mode": {
    "name": "ipython",
    "version": 3
   },
   "file_extension": ".py",
   "mimetype": "text/x-python",
   "name": "python",
   "nbconvert_exporter": "python",
   "pygments_lexer": "ipython3",
   "version": "3.8.3"
  }
 },
 "nbformat": 4,
 "nbformat_minor": 1
}
